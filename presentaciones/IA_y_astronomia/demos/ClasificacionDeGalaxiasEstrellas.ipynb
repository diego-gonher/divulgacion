{
  "nbformat": 4,
  "nbformat_minor": 0,
  "metadata": {
    "colab": {
      "name": "ClasificacionDeGalaxiasEstrellas.ipynb",
      "provenance": [],
      "collapsed_sections": []
    },
    "kernelspec": {
      "display_name": "Python 3",
      "name": "python3"
    }
  },
  "cells": [
    {
      "cell_type": "code",
      "metadata": {
        "colab": {
          "base_uri": "https://localhost:8080/"
        },
        "id": "pKx6mIvCiR2D",
        "outputId": "e775750b-0f13-4974-dcb5-cac224d0801f"
      },
      "source": [
        "# !pip install astroML "
      ],
      "execution_count": null,
      "outputs": [
        {
          "output_type": "stream",
          "text": [
            "Collecting astroML\n",
            "\u001b[?25l  Downloading https://files.pythonhosted.org/packages/e6/16/bb2d2784c09bfa9ed1ac5c3caf32cc203a1f8614fd5361f99ee46b4e04dc/astroML-0.4.1.tar.gz (105kB)\n",
            "\r\u001b[K     |███▏                            | 10kB 13.4MB/s eta 0:00:01\r\u001b[K     |██████▎                         | 20kB 18.2MB/s eta 0:00:01\r\u001b[K     |█████████▍                      | 30kB 11.1MB/s eta 0:00:01\r\u001b[K     |████████████▌                   | 40kB 9.4MB/s eta 0:00:01\r\u001b[K     |███████████████▋                | 51kB 5.6MB/s eta 0:00:01\r\u001b[K     |██████████████████▊             | 61kB 6.2MB/s eta 0:00:01\r\u001b[K     |█████████████████████▉          | 71kB 5.6MB/s eta 0:00:01\r\u001b[K     |█████████████████████████       | 81kB 6.2MB/s eta 0:00:01\r\u001b[K     |████████████████████████████    | 92kB 6.8MB/s eta 0:00:01\r\u001b[K     |███████████████████████████████▏| 102kB 6.6MB/s eta 0:00:01\r\u001b[K     |████████████████████████████████| 112kB 6.6MB/s \n",
            "\u001b[?25hRequirement already satisfied: scikit-learn>=0.18 in /usr/local/lib/python3.6/dist-packages (from astroML) (0.22.2.post1)\n",
            "Requirement already satisfied: numpy>=1.4 in /usr/local/lib/python3.6/dist-packages (from astroML) (1.19.5)\n",
            "Requirement already satisfied: scipy>=0.11 in /usr/local/lib/python3.6/dist-packages (from astroML) (1.4.1)\n",
            "Requirement already satisfied: matplotlib>=0.99 in /usr/local/lib/python3.6/dist-packages (from astroML) (3.2.2)\n",
            "Requirement already satisfied: astropy>=1.2 in /usr/local/lib/python3.6/dist-packages (from astroML) (4.1)\n",
            "Requirement already satisfied: joblib>=0.11 in /usr/local/lib/python3.6/dist-packages (from scikit-learn>=0.18->astroML) (1.0.0)\n",
            "Requirement already satisfied: cycler>=0.10 in /usr/local/lib/python3.6/dist-packages (from matplotlib>=0.99->astroML) (0.10.0)\n",
            "Requirement already satisfied: kiwisolver>=1.0.1 in /usr/local/lib/python3.6/dist-packages (from matplotlib>=0.99->astroML) (1.3.1)\n",
            "Requirement already satisfied: python-dateutil>=2.1 in /usr/local/lib/python3.6/dist-packages (from matplotlib>=0.99->astroML) (2.8.1)\n",
            "Requirement already satisfied: pyparsing!=2.0.4,!=2.1.2,!=2.1.6,>=2.0.1 in /usr/local/lib/python3.6/dist-packages (from matplotlib>=0.99->astroML) (2.4.7)\n",
            "Requirement already satisfied: six in /usr/local/lib/python3.6/dist-packages (from cycler>=0.10->matplotlib>=0.99->astroML) (1.15.0)\n",
            "Building wheels for collected packages: astroML\n",
            "  Building wheel for astroML (setup.py) ... \u001b[?25l\u001b[?25hdone\n",
            "  Created wheel for astroML: filename=astroML-0.4.1-cp36-none-any.whl size=128665 sha256=355b94db407660c6e83da4e592bcb6e39a3138013dc87d5d4e6744119831dac6\n",
            "  Stored in directory: /root/.cache/pip/wheels/7c/f2/f3/eb817cfb31b4445358dd7dda2434e02003f72801edabc38c97\n",
            "Successfully built astroML\n",
            "Installing collected packages: astroML\n",
            "Successfully installed astroML-0.4.1\n"
          ],
          "name": "stdout"
        }
      ]
    },
    {
      "cell_type": "code",
      "metadata": {
        "id": "82xI93ZWiW0w"
      },
      "source": [
        "from astroML.datasets import fetch_imaging_sample\n",
        "from astroML.plotting import scatter_contour\n",
        "import numpy as np\n",
        "import matplotlib.pyplot as plt\n",
        "import pandas as pd\n",
        "from sklearn.model_selection import GridSearchCV\n"
      ],
      "execution_count": null,
      "outputs": []
    },
    {
      "cell_type": "markdown",
      "metadata": {
        "id": "UUVJvem5Dkdp"
      },
      "source": [
        "# Problema\n",
        "SDSS genera datos fotométricos de miles de objetos por noche. Todos estos objetos son estrellas o galaxias. Poder clasificarlos de manera automática seria de gran ayuda porque son tantos objetos que una clasificación a mano seria muy ineficiente. Además, esta clasificación permitiría facilitar la recopilación de datos. Por ejemplo, si algún astrónomo desea hacer algún estudio estadístico sobre galaxias, entonces lo mejor seria que pudiera obtener una muestra de solo galaxias. \n",
        "\n",
        "\n",
        "#### Objetivo: **Usar la información fotométrica de SDSS para clasificar los objetos entre estrellas y galaxias.**"
      ]
    },
    {
      "cell_type": "markdown",
      "metadata": {
        "id": "SuaTDi6IEObl"
      },
      "source": [
        "# Obtención de datos\n",
        "Los datos los estoy obteniendo del proyecto directamente. SDSS publica todos los datos que genera en internet para que cualquier persona con una computadora y acceso a internet los pueda utilizar. Aquí específicamente estoy usando una función para obtener las datos de casi 300,000 objetos y luego la reorganizo para facilitar su uso."
      ]
    },
    {
      "cell_type": "code",
      "metadata": {
        "id": "E7LKuXvdiZvW"
      },
      "source": [
        "data = fetch_imaging_sample()\n"
      ],
      "execution_count": null,
      "outputs": []
    },
    {
      "cell_type": "code",
      "metadata": {
        "id": "OGNJHDbDib-s"
      },
      "source": [
        "N_of_data_entries = data.shape[0]\n",
        "N_of_data_features = len(data.dtype.names[:])\n",
        "feature_names = data.dtype.names[:]\n",
        "my_data = np.zeros((N_of_data_entries, N_of_data_features))\n",
        "\n",
        "for entry in np.arange(N_of_data_entries):\n",
        "    for feature in np.arange(N_of_data_features):\n",
        "        my_data[entry][feature] = data[feature_names[feature]][entry][0]\n",
        "\n"
      ],
      "execution_count": null,
      "outputs": []
    },
    {
      "cell_type": "markdown",
      "metadata": {
        "id": "EpM3wZjGFwj-"
      },
      "source": [
        "# Exploración\n",
        "Generalmente este paso es largo, y requiere de una inspección minusiosa de los datos obtenidos. Incluso se pueden realizar algunos análisis estadísticos preliminares. Para mantenerlo simple, solo quiero que miremos los datos que obtuvimos y que los intentemos entender."
      ]
    },
    {
      "cell_type": "code",
      "metadata": {
        "colab": {
          "base_uri": "https://localhost:8080/",
          "height": 379
        },
        "id": "JNdsD4keih1n",
        "outputId": "2b45dbfb-ac64-4bf0-cbab-b55a659aacae"
      },
      "source": [
        "my_data_pd = pd.DataFrame(my_data, columns=list(feature_names))\n",
        "my_data_pd.head(10)\n"
      ],
      "execution_count": null,
      "outputs": [
        {
          "output_type": "execute_result",
          "data": {
            "text/html": [
              "<div>\n",
              "<style scoped>\n",
              "    .dataframe tbody tr th:only-of-type {\n",
              "        vertical-align: middle;\n",
              "    }\n",
              "\n",
              "    .dataframe tbody tr th {\n",
              "        vertical-align: top;\n",
              "    }\n",
              "\n",
              "    .dataframe thead th {\n",
              "        text-align: right;\n",
              "    }\n",
              "</style>\n",
              "<table border=\"1\" class=\"dataframe\">\n",
              "  <thead>\n",
              "    <tr style=\"text-align: right;\">\n",
              "      <th></th>\n",
              "      <th>ra</th>\n",
              "      <th>dec</th>\n",
              "      <th>run</th>\n",
              "      <th>rExtSFD</th>\n",
              "      <th>uRaw</th>\n",
              "      <th>gRaw</th>\n",
              "      <th>rRaw</th>\n",
              "      <th>iRaw</th>\n",
              "      <th>zRaw</th>\n",
              "      <th>uErr</th>\n",
              "      <th>gErr</th>\n",
              "      <th>rErr</th>\n",
              "      <th>iErr</th>\n",
              "      <th>zErr</th>\n",
              "      <th>uRawPSF</th>\n",
              "      <th>gRawPSF</th>\n",
              "      <th>rRawPSF</th>\n",
              "      <th>iRawPSF</th>\n",
              "      <th>zRawPSF</th>\n",
              "      <th>upsfErr</th>\n",
              "      <th>gpsfErr</th>\n",
              "      <th>rpsfErr</th>\n",
              "      <th>ipsfErr</th>\n",
              "      <th>zpsfErr</th>\n",
              "      <th>type</th>\n",
              "      <th>ISOLATED</th>\n",
              "    </tr>\n",
              "  </thead>\n",
              "  <tbody>\n",
              "    <tr>\n",
              "      <th>0</th>\n",
              "      <td>0.358174</td>\n",
              "      <td>-0.508718</td>\n",
              "      <td>2728.0</td>\n",
              "      <td>0.103</td>\n",
              "      <td>23.255</td>\n",
              "      <td>22.633</td>\n",
              "      <td>22.459</td>\n",
              "      <td>21.911</td>\n",
              "      <td>21.211</td>\n",
              "      <td>0.487</td>\n",
              "      <td>0.126</td>\n",
              "      <td>0.145</td>\n",
              "      <td>0.129</td>\n",
              "      <td>0.264</td>\n",
              "      <td>23.028</td>\n",
              "      <td>22.621</td>\n",
              "      <td>22.563</td>\n",
              "      <td>22.039</td>\n",
              "      <td>21.240</td>\n",
              "      <td>0.378</td>\n",
              "      <td>0.164</td>\n",
              "      <td>0.140</td>\n",
              "      <td>0.125</td>\n",
              "      <td>0.248</td>\n",
              "      <td>3.0</td>\n",
              "      <td>1.0</td>\n",
              "    </tr>\n",
              "    <tr>\n",
              "      <th>1</th>\n",
              "      <td>0.358382</td>\n",
              "      <td>-0.551157</td>\n",
              "      <td>2728.0</td>\n",
              "      <td>0.107</td>\n",
              "      <td>25.302</td>\n",
              "      <td>22.345</td>\n",
              "      <td>20.589</td>\n",
              "      <td>18.896</td>\n",
              "      <td>17.984</td>\n",
              "      <td>0.711</td>\n",
              "      <td>0.097</td>\n",
              "      <td>0.031</td>\n",
              "      <td>0.013</td>\n",
              "      <td>0.020</td>\n",
              "      <td>24.989</td>\n",
              "      <td>22.347</td>\n",
              "      <td>20.617</td>\n",
              "      <td>18.896</td>\n",
              "      <td>17.976</td>\n",
              "      <td>0.793</td>\n",
              "      <td>0.094</td>\n",
              "      <td>0.038</td>\n",
              "      <td>0.035</td>\n",
              "      <td>0.038</td>\n",
              "      <td>6.0</td>\n",
              "      <td>0.0</td>\n",
              "    </tr>\n",
              "    <tr>\n",
              "      <th>2</th>\n",
              "      <td>0.357898</td>\n",
              "      <td>-0.570892</td>\n",
              "      <td>2728.0</td>\n",
              "      <td>0.109</td>\n",
              "      <td>23.025</td>\n",
              "      <td>22.317</td>\n",
              "      <td>21.350</td>\n",
              "      <td>21.057</td>\n",
              "      <td>20.890</td>\n",
              "      <td>0.670</td>\n",
              "      <td>0.159</td>\n",
              "      <td>0.103</td>\n",
              "      <td>0.117</td>\n",
              "      <td>0.359</td>\n",
              "      <td>23.701</td>\n",
              "      <td>22.919</td>\n",
              "      <td>22.260</td>\n",
              "      <td>21.932</td>\n",
              "      <td>21.797</td>\n",
              "      <td>0.611</td>\n",
              "      <td>0.148</td>\n",
              "      <td>0.111</td>\n",
              "      <td>0.115</td>\n",
              "      <td>0.379</td>\n",
              "      <td>3.0</td>\n",
              "      <td>1.0</td>\n",
              "    </tr>\n",
              "    <tr>\n",
              "      <th>3</th>\n",
              "      <td>0.357910</td>\n",
              "      <td>-0.426526</td>\n",
              "      <td>2728.0</td>\n",
              "      <td>0.100</td>\n",
              "      <td>23.190</td>\n",
              "      <td>22.398</td>\n",
              "      <td>20.941</td>\n",
              "      <td>19.967</td>\n",
              "      <td>19.506</td>\n",
              "      <td>0.453</td>\n",
              "      <td>0.101</td>\n",
              "      <td>0.040</td>\n",
              "      <td>0.026</td>\n",
              "      <td>0.059</td>\n",
              "      <td>23.020</td>\n",
              "      <td>22.333</td>\n",
              "      <td>20.907</td>\n",
              "      <td>19.930</td>\n",
              "      <td>19.515</td>\n",
              "      <td>0.382</td>\n",
              "      <td>0.102</td>\n",
              "      <td>0.045</td>\n",
              "      <td>0.035</td>\n",
              "      <td>0.070</td>\n",
              "      <td>6.0</td>\n",
              "      <td>0.0</td>\n",
              "    </tr>\n",
              "    <tr>\n",
              "      <th>4</th>\n",
              "      <td>0.358881</td>\n",
              "      <td>-0.505625</td>\n",
              "      <td>2728.0</td>\n",
              "      <td>0.103</td>\n",
              "      <td>23.495</td>\n",
              "      <td>24.024</td>\n",
              "      <td>21.378</td>\n",
              "      <td>20.504</td>\n",
              "      <td>20.117</td>\n",
              "      <td>0.697</td>\n",
              "      <td>0.469</td>\n",
              "      <td>0.074</td>\n",
              "      <td>0.049</td>\n",
              "      <td>0.131</td>\n",
              "      <td>23.526</td>\n",
              "      <td>24.089</td>\n",
              "      <td>21.802</td>\n",
              "      <td>20.957</td>\n",
              "      <td>20.384</td>\n",
              "      <td>0.613</td>\n",
              "      <td>0.330</td>\n",
              "      <td>0.075</td>\n",
              "      <td>0.054</td>\n",
              "      <td>0.123</td>\n",
              "      <td>3.0</td>\n",
              "      <td>0.0</td>\n",
              "    </tr>\n",
              "    <tr>\n",
              "      <th>5</th>\n",
              "      <td>0.162688</td>\n",
              "      <td>-0.590807</td>\n",
              "      <td>2728.0</td>\n",
              "      <td>0.117</td>\n",
              "      <td>25.415</td>\n",
              "      <td>22.606</td>\n",
              "      <td>21.748</td>\n",
              "      <td>21.440</td>\n",
              "      <td>20.861</td>\n",
              "      <td>1.098</td>\n",
              "      <td>0.198</td>\n",
              "      <td>0.135</td>\n",
              "      <td>0.152</td>\n",
              "      <td>0.329</td>\n",
              "      <td>25.364</td>\n",
              "      <td>23.147</td>\n",
              "      <td>22.473</td>\n",
              "      <td>22.167</td>\n",
              "      <td>21.498</td>\n",
              "      <td>0.678</td>\n",
              "      <td>0.181</td>\n",
              "      <td>0.134</td>\n",
              "      <td>0.144</td>\n",
              "      <td>0.306</td>\n",
              "      <td>3.0</td>\n",
              "      <td>1.0</td>\n",
              "    </tr>\n",
              "    <tr>\n",
              "      <th>6</th>\n",
              "      <td>0.142353</td>\n",
              "      <td>-0.613267</td>\n",
              "      <td>2728.0</td>\n",
              "      <td>0.117</td>\n",
              "      <td>24.530</td>\n",
              "      <td>23.264</td>\n",
              "      <td>20.734</td>\n",
              "      <td>20.029</td>\n",
              "      <td>19.588</td>\n",
              "      <td>1.285</td>\n",
              "      <td>0.312</td>\n",
              "      <td>0.051</td>\n",
              "      <td>0.041</td>\n",
              "      <td>0.098</td>\n",
              "      <td>24.612</td>\n",
              "      <td>23.533</td>\n",
              "      <td>21.357</td>\n",
              "      <td>20.670</td>\n",
              "      <td>20.145</td>\n",
              "      <td>0.849</td>\n",
              "      <td>0.257</td>\n",
              "      <td>0.053</td>\n",
              "      <td>0.044</td>\n",
              "      <td>0.100</td>\n",
              "      <td>3.0</td>\n",
              "      <td>0.0</td>\n",
              "    </tr>\n",
              "    <tr>\n",
              "      <th>7</th>\n",
              "      <td>0.142009</td>\n",
              "      <td>-0.585848</td>\n",
              "      <td>2728.0</td>\n",
              "      <td>0.116</td>\n",
              "      <td>25.743</td>\n",
              "      <td>22.914</td>\n",
              "      <td>21.116</td>\n",
              "      <td>20.509</td>\n",
              "      <td>20.179</td>\n",
              "      <td>0.621</td>\n",
              "      <td>0.179</td>\n",
              "      <td>0.055</td>\n",
              "      <td>0.047</td>\n",
              "      <td>0.126</td>\n",
              "      <td>25.496</td>\n",
              "      <td>23.104</td>\n",
              "      <td>21.427</td>\n",
              "      <td>20.791</td>\n",
              "      <td>20.381</td>\n",
              "      <td>0.625</td>\n",
              "      <td>0.174</td>\n",
              "      <td>0.057</td>\n",
              "      <td>0.047</td>\n",
              "      <td>0.122</td>\n",
              "      <td>3.0</td>\n",
              "      <td>1.0</td>\n",
              "    </tr>\n",
              "    <tr>\n",
              "      <th>8</th>\n",
              "      <td>0.121992</td>\n",
              "      <td>-0.462113</td>\n",
              "      <td>2728.0</td>\n",
              "      <td>0.112</td>\n",
              "      <td>21.711</td>\n",
              "      <td>21.319</td>\n",
              "      <td>20.488</td>\n",
              "      <td>20.490</td>\n",
              "      <td>19.806</td>\n",
              "      <td>0.412</td>\n",
              "      <td>0.127</td>\n",
              "      <td>0.096</td>\n",
              "      <td>0.202</td>\n",
              "      <td>0.272</td>\n",
              "      <td>23.509</td>\n",
              "      <td>22.801</td>\n",
              "      <td>22.362</td>\n",
              "      <td>22.437</td>\n",
              "      <td>21.610</td>\n",
              "      <td>0.554</td>\n",
              "      <td>0.133</td>\n",
              "      <td>0.119</td>\n",
              "      <td>0.179</td>\n",
              "      <td>0.324</td>\n",
              "      <td>3.0</td>\n",
              "      <td>1.0</td>\n",
              "    </tr>\n",
              "    <tr>\n",
              "      <th>9</th>\n",
              "      <td>0.221928</td>\n",
              "      <td>-0.515993</td>\n",
              "      <td>2728.0</td>\n",
              "      <td>0.112</td>\n",
              "      <td>20.814</td>\n",
              "      <td>19.541</td>\n",
              "      <td>18.999</td>\n",
              "      <td>18.781</td>\n",
              "      <td>18.711</td>\n",
              "      <td>0.069</td>\n",
              "      <td>0.013</td>\n",
              "      <td>0.011</td>\n",
              "      <td>0.012</td>\n",
              "      <td>0.032</td>\n",
              "      <td>20.804</td>\n",
              "      <td>19.544</td>\n",
              "      <td>18.981</td>\n",
              "      <td>18.803</td>\n",
              "      <td>18.707</td>\n",
              "      <td>0.065</td>\n",
              "      <td>0.022</td>\n",
              "      <td>0.017</td>\n",
              "      <td>0.019</td>\n",
              "      <td>0.036</td>\n",
              "      <td>6.0</td>\n",
              "      <td>1.0</td>\n",
              "    </tr>\n",
              "  </tbody>\n",
              "</table>\n",
              "</div>"
            ],
            "text/plain": [
              "         ra       dec     run  rExtSFD  ...  ipsfErr  zpsfErr  type  ISOLATED\n",
              "0  0.358174 -0.508718  2728.0    0.103  ...    0.125    0.248   3.0       1.0\n",
              "1  0.358382 -0.551157  2728.0    0.107  ...    0.035    0.038   6.0       0.0\n",
              "2  0.357898 -0.570892  2728.0    0.109  ...    0.115    0.379   3.0       1.0\n",
              "3  0.357910 -0.426526  2728.0    0.100  ...    0.035    0.070   6.0       0.0\n",
              "4  0.358881 -0.505625  2728.0    0.103  ...    0.054    0.123   3.0       0.0\n",
              "5  0.162688 -0.590807  2728.0    0.117  ...    0.144    0.306   3.0       1.0\n",
              "6  0.142353 -0.613267  2728.0    0.117  ...    0.044    0.100   3.0       0.0\n",
              "7  0.142009 -0.585848  2728.0    0.116  ...    0.047    0.122   3.0       1.0\n",
              "8  0.121992 -0.462113  2728.0    0.112  ...    0.179    0.324   3.0       1.0\n",
              "9  0.221928 -0.515993  2728.0    0.112  ...    0.019    0.036   6.0       1.0\n",
              "\n",
              "[10 rows x 26 columns]"
            ]
          },
          "metadata": {
            "tags": []
          },
          "execution_count": 5
        }
      ]
    },
    {
      "cell_type": "markdown",
      "metadata": {
        "id": "O4g5ZMivG5m4"
      },
      "source": [
        "# Preparación de Datos\n",
        "Aquí deseo preparar los datos para ponerlos en un formato que sea útil para el algoritmo que usemos. Para empezar, escogemos que variables son útiles, y me quedo con solo las magnitudes puesto que son la pieza de información mas relevante. Tambien realizo una resta de las magnitudes normales y las PSF (Función de dispersión de punto como medición de que tan parecido es un punto a cada obeto) en cada una de las cinco bandas."
      ]
    },
    {
      "cell_type": "code",
      "metadata": {
        "id": "GPobMuzTikLX"
      },
      "source": [
        "# add the extra columns\n",
        "my_data_pd['uDiff'] = my_data_pd['uRaw'] - my_data_pd['uRawPSF']\n",
        "my_data_pd['gDiff'] = my_data_pd['gRaw'] - my_data_pd['gRawPSF']\n",
        "my_data_pd['rDiff'] = my_data_pd['rRaw'] - my_data_pd['rRawPSF']\n",
        "my_data_pd['iDiff'] = my_data_pd['iRaw'] - my_data_pd['iRawPSF']\n",
        "my_data_pd['zDiff'] = my_data_pd['zRaw'] - my_data_pd['zRawPSF']\n"
      ],
      "execution_count": null,
      "outputs": []
    },
    {
      "cell_type": "code",
      "metadata": {
        "colab": {
          "base_uri": "https://localhost:8080/",
          "height": 359
        },
        "id": "JDp7qk13jHaz",
        "outputId": "359d3c1f-3845-478b-a9d9-f04ee56eef01"
      },
      "source": [
        "my_data_pd[['uDiff', 'gDiff', 'rDiff', 'iDiff', 'zDiff', 'type']].head(10)\n"
      ],
      "execution_count": null,
      "outputs": [
        {
          "output_type": "execute_result",
          "data": {
            "text/html": [
              "<div>\n",
              "<style scoped>\n",
              "    .dataframe tbody tr th:only-of-type {\n",
              "        vertical-align: middle;\n",
              "    }\n",
              "\n",
              "    .dataframe tbody tr th {\n",
              "        vertical-align: top;\n",
              "    }\n",
              "\n",
              "    .dataframe thead th {\n",
              "        text-align: right;\n",
              "    }\n",
              "</style>\n",
              "<table border=\"1\" class=\"dataframe\">\n",
              "  <thead>\n",
              "    <tr style=\"text-align: right;\">\n",
              "      <th></th>\n",
              "      <th>uDiff</th>\n",
              "      <th>gDiff</th>\n",
              "      <th>rDiff</th>\n",
              "      <th>iDiff</th>\n",
              "      <th>zDiff</th>\n",
              "      <th>type</th>\n",
              "    </tr>\n",
              "  </thead>\n",
              "  <tbody>\n",
              "    <tr>\n",
              "      <th>0</th>\n",
              "      <td>0.227</td>\n",
              "      <td>0.012</td>\n",
              "      <td>-0.104</td>\n",
              "      <td>-0.128</td>\n",
              "      <td>-0.029</td>\n",
              "      <td>3.0</td>\n",
              "    </tr>\n",
              "    <tr>\n",
              "      <th>1</th>\n",
              "      <td>0.313</td>\n",
              "      <td>-0.002</td>\n",
              "      <td>-0.028</td>\n",
              "      <td>0.000</td>\n",
              "      <td>0.008</td>\n",
              "      <td>6.0</td>\n",
              "    </tr>\n",
              "    <tr>\n",
              "      <th>2</th>\n",
              "      <td>-0.676</td>\n",
              "      <td>-0.602</td>\n",
              "      <td>-0.910</td>\n",
              "      <td>-0.875</td>\n",
              "      <td>-0.907</td>\n",
              "      <td>3.0</td>\n",
              "    </tr>\n",
              "    <tr>\n",
              "      <th>3</th>\n",
              "      <td>0.170</td>\n",
              "      <td>0.065</td>\n",
              "      <td>0.034</td>\n",
              "      <td>0.037</td>\n",
              "      <td>-0.009</td>\n",
              "      <td>6.0</td>\n",
              "    </tr>\n",
              "    <tr>\n",
              "      <th>4</th>\n",
              "      <td>-0.031</td>\n",
              "      <td>-0.065</td>\n",
              "      <td>-0.424</td>\n",
              "      <td>-0.453</td>\n",
              "      <td>-0.267</td>\n",
              "      <td>3.0</td>\n",
              "    </tr>\n",
              "    <tr>\n",
              "      <th>5</th>\n",
              "      <td>0.051</td>\n",
              "      <td>-0.541</td>\n",
              "      <td>-0.725</td>\n",
              "      <td>-0.727</td>\n",
              "      <td>-0.637</td>\n",
              "      <td>3.0</td>\n",
              "    </tr>\n",
              "    <tr>\n",
              "      <th>6</th>\n",
              "      <td>-0.082</td>\n",
              "      <td>-0.269</td>\n",
              "      <td>-0.623</td>\n",
              "      <td>-0.641</td>\n",
              "      <td>-0.557</td>\n",
              "      <td>3.0</td>\n",
              "    </tr>\n",
              "    <tr>\n",
              "      <th>7</th>\n",
              "      <td>0.247</td>\n",
              "      <td>-0.190</td>\n",
              "      <td>-0.311</td>\n",
              "      <td>-0.282</td>\n",
              "      <td>-0.202</td>\n",
              "      <td>3.0</td>\n",
              "    </tr>\n",
              "    <tr>\n",
              "      <th>8</th>\n",
              "      <td>-1.798</td>\n",
              "      <td>-1.482</td>\n",
              "      <td>-1.874</td>\n",
              "      <td>-1.947</td>\n",
              "      <td>-1.804</td>\n",
              "      <td>3.0</td>\n",
              "    </tr>\n",
              "    <tr>\n",
              "      <th>9</th>\n",
              "      <td>0.010</td>\n",
              "      <td>-0.003</td>\n",
              "      <td>0.018</td>\n",
              "      <td>-0.022</td>\n",
              "      <td>0.004</td>\n",
              "      <td>6.0</td>\n",
              "    </tr>\n",
              "  </tbody>\n",
              "</table>\n",
              "</div>"
            ],
            "text/plain": [
              "   uDiff  gDiff  rDiff  iDiff  zDiff  type\n",
              "0  0.227  0.012 -0.104 -0.128 -0.029   3.0\n",
              "1  0.313 -0.002 -0.028  0.000  0.008   6.0\n",
              "2 -0.676 -0.602 -0.910 -0.875 -0.907   3.0\n",
              "3  0.170  0.065  0.034  0.037 -0.009   6.0\n",
              "4 -0.031 -0.065 -0.424 -0.453 -0.267   3.0\n",
              "5  0.051 -0.541 -0.725 -0.727 -0.637   3.0\n",
              "6 -0.082 -0.269 -0.623 -0.641 -0.557   3.0\n",
              "7  0.247 -0.190 -0.311 -0.282 -0.202   3.0\n",
              "8 -1.798 -1.482 -1.874 -1.947 -1.804   3.0\n",
              "9  0.010 -0.003  0.018 -0.022  0.004   6.0"
            ]
          },
          "metadata": {
            "tags": []
          },
          "execution_count": 7
        }
      ]
    },
    {
      "cell_type": "markdown",
      "metadata": {
        "id": "PacR2vbcM_WZ"
      },
      "source": [
        "Por último, separamos los datos en un set de entrenamiento (usado para que el algoritmo \"aprenda\") y un set de evaluación."
      ]
    },
    {
      "cell_type": "code",
      "metadata": {
        "id": "EFU4tJQejjGw"
      },
      "source": [
        "# first we separate the entire data set into training and test, using stratified splitter\n",
        "from sklearn.model_selection import StratifiedShuffleSplit\n",
        "\n",
        "split = StratifiedShuffleSplit(n_splits=1, test_size=0.2, random_state=42)\n",
        "for train_index, test_index in split.split(my_data_pd, my_data_pd[\"type\"]):\n",
        "    strat_train_set = my_data_pd.loc[train_index]\n",
        "    strat_test_set = my_data_pd.loc[test_index]\n",
        "\n",
        "# now separate the training data set into feaures and labels\n",
        "X_train = strat_train_set[['uDiff', 'gDiff', 'rDiff', 'iDiff', 'zDiff']].values\n",
        "Y_train = strat_train_set['type'].values\n",
        "\n",
        "# now separate the training data set into feaures and labels\n",
        "X_test = strat_test_set[['uDiff', 'gDiff', 'rDiff', 'iDiff', 'zDiff']].values\n",
        "Y_test = strat_test_set['type'].values\n",
        "\n",
        "y_train = Y_train == 3.0 # 1 if its star, 0 if its galaxy\n",
        "y_test = Y_test == 3.0 # 1 if its star, 0 if its galaxy\n"
      ],
      "execution_count": null,
      "outputs": []
    },
    {
      "cell_type": "markdown",
      "metadata": {
        "id": "IxrKnltcOKF9"
      },
      "source": [
        "# Entrenamiento de Algoritmo\n",
        "Generalmente se seleccionan varios algoritmos que puedan realizar la misma tarea (clasificación en este caso). Aquí escogí el **\"k-Nearest Neighbors\"** (k vecinos más próximos) que es un algoritmo que usa la distancia entre puntos en el espacio de variables para realizar una clasificación. "
      ]
    },
    {
      "cell_type": "code",
      "metadata": {
        "id": "2E55PVR-kq-k",
        "colab": {
          "base_uri": "https://localhost:8080/",
          "height": 388
        },
        "outputId": "50d3473a-c3d3-4bb3-d8f8-266fac541dde"
      },
      "source": [
        "xgalex = [1,1.1,1.1, 1.15, 1.07]\n",
        "ygalex = [0.5,2,0.6, 1.635, 1.55]\n",
        "\n",
        "xstarex = [1.3,1.37,1.25,1.27]\n",
        "ystarex = [2.1,2.2,2.5, 1.8]\n",
        "\n",
        "xobjex1 = [1.23]\n",
        "yobjex1 = [2.23]\n",
        "\n",
        "xobjex2 = [1.05]\n",
        "yobjex2 = [1.03]\n",
        "\n",
        "s1 = 95\n",
        "\n",
        "plt.figure(figsize=(8, 6))\n",
        "plt.scatter(xgalex, ygalex, marker='H', s=s1, label='galaxias')\n",
        "plt.scatter(xstarex, ystarex, marker='*', s=s1, label='estrellas')\n",
        "plt.scatter(xobjex1, yobjex1, marker='X', s=s1, label='objeto 1')\n",
        "plt.scatter(xobjex2, yobjex2, marker='X', s=s1, label='objeto 2')\n",
        "plt.ylabel('Magnitud a')\n",
        "plt.xlabel('Magnitud b')\n",
        "plt.legend(loc='lower right')\n",
        "plt.grid()\n"
      ],
      "execution_count": null,
      "outputs": [
        {
          "output_type": "display_data",
          "data": {
            "image/png": "[encoded data removed]",
            "text/plain": [
              "<Figure size 576x432 with 1 Axes>"
            ]
          },
          "metadata": {
            "tags": [],
            "needs_background": "light"
          }
        }
      ]
    },
    {
      "cell_type": "markdown",
      "metadata": {
        "id": "GlumdNVu5eFL"
      },
      "source": [
        "Entrenamiento del algoritmo usando la data preparada."
      ]
    },
    {
      "cell_type": "code",
      "metadata": {
        "colab": {
          "base_uri": "https://localhost:8080/"
        },
        "id": "eAc4SG5Y5aag",
        "outputId": "ce931f1e-c54a-4a39-fdd1-0814f901ed93"
      },
      "source": [
        "from sklearn.neighbors import KNeighborsClassifier\n",
        "\n",
        "knn_clf = KNeighborsClassifier(weights='uniform', n_neighbors=9)\n",
        "knn_clf.fit(X_train, y_train)\n"
      ],
      "execution_count": null,
      "outputs": [
        {
          "output_type": "execute_result",
          "data": {
            "text/plain": [
              "KNeighborsClassifier(algorithm='auto', leaf_size=30, metric='minkowski',\n",
              "                     metric_params=None, n_jobs=None, n_neighbors=9, p=2,\n",
              "                     weights='uniform')"
            ]
          },
          "metadata": {
            "tags": []
          },
          "execution_count": 10
        }
      ]
    },
    {
      "cell_type": "markdown",
      "metadata": {
        "id": "EYNot7J07dH-"
      },
      "source": [
        "# Evaluación\n",
        "Existen maneras sofisticadas de evaluar el trabajo de un algoritmo, pero aquí simplemente hago que el algoritmo clasifique el set de evaluación y miro el porcentaje de objetos que acierta."
      ]
    },
    {
      "cell_type": "code",
      "metadata": {
        "colab": {
          "base_uri": "https://localhost:8080/"
        },
        "id": "mJqwN9FY7PSM",
        "outputId": "6b2eb3d4-6488-4b29-ed24-d4239c8107f8"
      },
      "source": [
        "knn_clf.score(X_test, y_test)"
      ],
      "execution_count": null,
      "outputs": [
        {
          "output_type": "execute_result",
          "data": {
            "text/plain": [
              "0.963492615379964"
            ]
          },
          "metadata": {
            "tags": []
          },
          "execution_count": 11
        }
      ]
    },
    {
      "cell_type": "markdown",
      "metadata": {
        "id": "dq4N-Xsu86vw"
      },
      "source": [
        "Como podemos apreciar, el algoritmo es muy bueno pues alcanzó un 96.3% de clasificaciones correctas. Aún así, me gustaría saber si lo podemos mejorar."
      ]
    },
    {
      "cell_type": "markdown",
      "metadata": {
        "id": "Qz_SZ6Aa9Qmc"
      },
      "source": [
        "# Mejorar y repetir\n",
        "Este paso también depende mucho del problema y de los resultados obtenidos hasta el momento. Realmente obtuvimos un buen porcentaje porque utilizamos la diferencia entre las magnitudes normales y las PSF (si solo hubieroms usado las magnitudes normales, hubiesemos el algoritmo solo habría acertado el 80.7%), pero podriamos tratar de mejorarlo aún mas cambiando el numero de \"vecinos\" que el algoritmo utiliza."
      ]
    },
    {
      "cell_type": "code",
      "metadata": {
        "colab": {
          "base_uri": "https://localhost:8080/"
        },
        "id": "_Vlx1UVe85zT",
        "outputId": "fa277f7e-8f80-4e7d-faaa-6fe59cff7432"
      },
      "source": [
        "from sklearn.model_selection import GridSearchCV\n",
        "\n",
        "param_grid = [{'n_neighbors': [5, 9]}]\n",
        "\n",
        "knn_clf2 = KNeighborsClassifier()\n",
        "grid_search = GridSearchCV(knn_clf2, param_grid, cv=2, verbose=3)\n",
        "grid_search.fit(X_train, y_train)\n"
      ],
      "execution_count": null,
      "outputs": [
        {
          "output_type": "stream",
          "text": [
            "Fitting 2 folds for each of 2 candidates, totalling 4 fits\n",
            "[CV] n_neighbors=5 ...................................................\n"
          ],
          "name": "stdout"
        },
        {
          "output_type": "stream",
          "text": [
            "[Parallel(n_jobs=1)]: Using backend SequentialBackend with 1 concurrent workers.\n"
          ],
          "name": "stderr"
        },
        {
          "output_type": "stream",
          "text": [
            "[CV] ....................... n_neighbors=5, score=0.962, total=   8.6s\n",
            "[CV] n_neighbors=5 ...................................................\n"
          ],
          "name": "stdout"
        },
        {
          "output_type": "stream",
          "text": [
            "[Parallel(n_jobs=1)]: Done   1 out of   1 | elapsed:    8.7s remaining:    0.0s\n"
          ],
          "name": "stderr"
        },
        {
          "output_type": "stream",
          "text": [
            "[CV] ....................... n_neighbors=5, score=0.962, total=   8.6s\n",
            "[CV] n_neighbors=9 ...................................................\n"
          ],
          "name": "stdout"
        },
        {
          "output_type": "stream",
          "text": [
            "[Parallel(n_jobs=1)]: Done   2 out of   2 | elapsed:   17.3s remaining:    0.0s\n"
          ],
          "name": "stderr"
        },
        {
          "output_type": "stream",
          "text": [
            "[CV] ....................... n_neighbors=9, score=0.964, total=   9.8s\n",
            "[CV] n_neighbors=9 ...................................................\n",
            "[CV] ....................... n_neighbors=9, score=0.963, total=   9.9s\n"
          ],
          "name": "stdout"
        },
        {
          "output_type": "stream",
          "text": [
            "[Parallel(n_jobs=1)]: Done   4 out of   4 | elapsed:   37.0s finished\n"
          ],
          "name": "stderr"
        },
        {
          "output_type": "execute_result",
          "data": {
            "text/plain": [
              "GridSearchCV(cv=2, error_score=nan,\n",
              "             estimator=KNeighborsClassifier(algorithm='auto', leaf_size=30,\n",
              "                                            metric='minkowski',\n",
              "                                            metric_params=None, n_jobs=None,\n",
              "                                            n_neighbors=5, p=2,\n",
              "                                            weights='uniform'),\n",
              "             iid='deprecated', n_jobs=None,\n",
              "             param_grid=[{'n_neighbors': [5, 9]}], pre_dispatch='2*n_jobs',\n",
              "             refit=True, return_train_score=False, scoring=None, verbose=3)"
            ]
          },
          "metadata": {
            "tags": []
          },
          "execution_count": 12
        }
      ]
    },
    {
      "cell_type": "code",
      "metadata": {
        "colab": {
          "base_uri": "https://localhost:8080/"
        },
        "id": "MGMIN7ml_7Sc",
        "outputId": "91a74a77-c324-4a2a-d828-6077ea86a16f"
      },
      "source": [
        "grid_search.best_params_, grid_search.best_score_\n"
      ],
      "execution_count": null,
      "outputs": [
        {
          "output_type": "execute_result",
          "data": {
            "text/plain": [
              "({'n_neighbors': 9}, 0.9636510683970643)"
            ]
          },
          "metadata": {
            "tags": []
          },
          "execution_count": 13
        }
      ]
    },
    {
      "cell_type": "markdown",
      "metadata": {
        "id": "13I8LK24AlRb"
      },
      "source": [
        "# Conclusiones\n",
        "Usando la diferencia entre magnitudes normales y \"PSF\", y entrenando un algoritmo kNN con 9 \"vecinos\" nos proporciona un clasificador que acierta el 96.4% de las veces. \\"
      ]
    },
    {
      "cell_type": "code",
      "metadata": {
        "id": "5pHiEf6_Cyq4"
      },
      "source": [
        ""
      ],
      "execution_count": null,
      "outputs": []
    }
  ]
}