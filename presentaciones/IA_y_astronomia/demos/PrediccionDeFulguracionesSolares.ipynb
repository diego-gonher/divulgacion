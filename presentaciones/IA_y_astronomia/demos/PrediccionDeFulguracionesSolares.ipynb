{
  "nbformat": 4,
  "nbformat_minor": 0,
  "metadata": {
    "colab": {
      "name": "PrediccionDeFulguracionesSolares.ipynb",
      "provenance": [],
      "collapsed_sections": []
    },
    "kernelspec": {
      "name": "python3",
      "display_name": "Python 3"
    }
  },
  "cells": [
    {
      "cell_type": "markdown",
      "metadata": {
        "id": "qPAn56IEXFmD"
      },
      "source": [
        "# Problema\n",
        "El *Solar Dynamics Observatory* es un telescopio espacial que puede realizar mediciones continuas (casi en tiempo real) del Sol. Particularmente, posee el *HMI* (generador de imágenes heliosísmicas y magnéticas) que permite la recopilación de datos sobre el estado del campo magnético en regiones activas (AR) de la superficie solar. Las AR son de especial importancia pues generalmente las fulguraciones solares (y también las eyecciones de masa coronal) provienen de las mismas. En este ejemplo, voy a replicar un estudio real (*Florios, Kostas and Kontogiannis: 2018, Forecasting Solar Flares Using Magnetogram-based Predictors and Machine Learning*) en el que los autores prueban la posibilidad de usar algunos algoritmos de aprendizaje automático para predecir fulguraciones solares de tipo C y M.\n",
        "\n",
        "#### Objetivo: **Usar datos obtenidos del HMI para predecir la ocurrencia de fulguraciones solares de tipo C.**"
      ]
    },
    {
      "cell_type": "markdown",
      "metadata": {
        "id": "P4dBncZHa9AI"
      },
      "source": [
        "# Obtención de datos\n",
        "Los autores proveen los datos ya reducidos que ellos mismos usaron para entrenar a sus algoritmos (lo cuál es genial porque permite la replicación y verificación de sus resultados!). En el paper en sí, ellos explican que obtuvieron los datos de la base de datos publica del SDO. Yo solo utilizo los datos que ellos proveen."
      ]
    },
    {
      "cell_type": "code",
      "metadata": {
        "id": "9cNTv00Gw3L9"
      },
      "source": [
        "import numpy as np\n",
        "import matplotlib.pyplot as plt\n",
        "import pandas as pd\n",
        "import time\n",
        "from sklearn.model_selection import GridSearchCV"
      ],
      "execution_count": null,
      "outputs": []
    },
    {
      "cell_type": "code",
      "metadata": {
        "id": "4l4XENzvw_AJ"
      },
      "source": [
        "# https://arxiv.org/pdf/1801.05744.pdf\n",
        "\n",
        "# set the paths for both features and labels for class C solar flares\n",
        "# CAMBIAR CON EL FILE EN TU COMPUTADORA\n",
        "pathFeaturesC = '/content/drive/MyDrive/datasets/SolarFlareForecasting/Xall.txt'\n",
        "pathLabelsC = '/content/drive/MyDrive/datasets/SolarFlareForecasting/Yall.txt' \n",
        "\n",
        "# load the dataset in numpy arrays\n",
        "classCfeatures = np.loadtxt(pathFeaturesC, delimiter=' ')\n",
        "classClabels = np.loadtxt(pathLabelsC, delimiter=' ')\n",
        "\n",
        "# concatenate both and display shape\n",
        "classCDataset = np.hstack((classCfeatures, classClabels.reshape((classClabels.size,1))))\n",
        "\n",
        "# put it into a pandas DataFrame and show first few cases\n",
        "feature_names = [\"alpha_exp_fft_blos\",\"alpha_exp_fft_br\",\n",
        "\"decay_index_blos\",\"decay_index_br\",\n",
        "\"ising_energy_blos\",\"ising_energy_br\",\n",
        "\"ising_energy_part_blos\",\"ising_energy_part_br\",\n",
        "\"mpil_blos\",\"mpil_br\",\n",
        "\"nn_currents\",\n",
        "\"r_value_blos_logr\",\"r_value_br_logr\",\n",
        "\"wlsg_blos\",\"wlsg_br\"]\n"
      ],
      "execution_count": null,
      "outputs": []
    },
    {
      "cell_type": "markdown",
      "metadata": {
        "id": "VcY9e-_jb0jk"
      },
      "source": [
        "# Exploración\n",
        "Los autores usan 15 variables especializadas que miden distintas propiedades relevantes de los campos magnéticos en las regiones activas que ellos seleccionaron, y siendo honesto, son un poco avanzadas y no entiendo perfectamente que es lo que significa cada una. Sin embargo, ellos describen como seleccionaron estas variables (basandose en argumentos tanto teóricos y empíricos). Aquí esta la tabla con algunos de los datos que ellos usaron."
      ]
    },
    {
      "cell_type": "code",
      "metadata": {
        "colab": {
          "base_uri": "https://localhost:8080/",
          "height": 379
        },
        "id": "LaEGyC5tHXis",
        "outputId": "99c16035-0c39-4367-ec3f-b7c0f90125f9"
      },
      "source": [
        "Class_C_pd = pd.DataFrame(classCDataset, columns=feature_names + [\"y_GT_C1\"])\n",
        "Class_C_pd.head(10)"
      ],
      "execution_count": null,
      "outputs": [
        {
          "output_type": "execute_result",
          "data": {
            "text/html": [
              "<div>\n",
              "<style scoped>\n",
              "    .dataframe tbody tr th:only-of-type {\n",
              "        vertical-align: middle;\n",
              "    }\n",
              "\n",
              "    .dataframe tbody tr th {\n",
              "        vertical-align: top;\n",
              "    }\n",
              "\n",
              "    .dataframe thead th {\n",
              "        text-align: right;\n",
              "    }\n",
              "</style>\n",
              "<table border=\"1\" class=\"dataframe\">\n",
              "  <thead>\n",
              "    <tr style=\"text-align: right;\">\n",
              "      <th></th>\n",
              "      <th>alpha_exp_fft_blos</th>\n",
              "      <th>alpha_exp_fft_br</th>\n",
              "      <th>decay_index_blos</th>\n",
              "      <th>decay_index_br</th>\n",
              "      <th>ising_energy_blos</th>\n",
              "      <th>ising_energy_br</th>\n",
              "      <th>ising_energy_part_blos</th>\n",
              "      <th>ising_energy_part_br</th>\n",
              "      <th>mpil_blos</th>\n",
              "      <th>mpil_br</th>\n",
              "      <th>nn_currents</th>\n",
              "      <th>r_value_blos_logr</th>\n",
              "      <th>r_value_br_logr</th>\n",
              "      <th>wlsg_blos</th>\n",
              "      <th>wlsg_br</th>\n",
              "      <th>y_GT_C1</th>\n",
              "    </tr>\n",
              "  </thead>\n",
              "  <tbody>\n",
              "    <tr>\n",
              "      <th>0</th>\n",
              "      <td>-2.158341</td>\n",
              "      <td>-1.656584</td>\n",
              "      <td>4.033333</td>\n",
              "      <td>7.966667</td>\n",
              "      <td>44160.773438</td>\n",
              "      <td>146.655746</td>\n",
              "      <td>64.350677</td>\n",
              "      <td>91.093933</td>\n",
              "      <td>1434.229980</td>\n",
              "      <td>66.367134</td>\n",
              "      <td>0.0</td>\n",
              "      <td>3.796749</td>\n",
              "      <td>4.276880</td>\n",
              "      <td>5491.607910</td>\n",
              "      <td>56192.617188</td>\n",
              "      <td>1.0</td>\n",
              "    </tr>\n",
              "    <tr>\n",
              "      <th>1</th>\n",
              "      <td>-1.522695</td>\n",
              "      <td>-1.589781</td>\n",
              "      <td>0.146341</td>\n",
              "      <td>7.000000</td>\n",
              "      <td>673.985840</td>\n",
              "      <td>121663.203125</td>\n",
              "      <td>3.685454</td>\n",
              "      <td>103.715042</td>\n",
              "      <td>1346.906250</td>\n",
              "      <td>62.989857</td>\n",
              "      <td>0.0</td>\n",
              "      <td>0.000000</td>\n",
              "      <td>4.208902</td>\n",
              "      <td>0.000000</td>\n",
              "      <td>55712.757812</td>\n",
              "      <td>0.0</td>\n",
              "    </tr>\n",
              "    <tr>\n",
              "      <th>2</th>\n",
              "      <td>-2.679130</td>\n",
              "      <td>-1.598090</td>\n",
              "      <td>5.176470</td>\n",
              "      <td>13.700000</td>\n",
              "      <td>29505.529297</td>\n",
              "      <td>148071.093750</td>\n",
              "      <td>51.445038</td>\n",
              "      <td>131.707550</td>\n",
              "      <td>1601.227417</td>\n",
              "      <td>72.689018</td>\n",
              "      <td>0.0</td>\n",
              "      <td>4.067752</td>\n",
              "      <td>4.337876</td>\n",
              "      <td>7511.451660</td>\n",
              "      <td>53778.453125</td>\n",
              "      <td>0.0</td>\n",
              "    </tr>\n",
              "    <tr>\n",
              "      <th>3</th>\n",
              "      <td>-2.014824</td>\n",
              "      <td>-1.484963</td>\n",
              "      <td>0.000000</td>\n",
              "      <td>4.088235</td>\n",
              "      <td>8234.035156</td>\n",
              "      <td>146240.500000</td>\n",
              "      <td>0.000000</td>\n",
              "      <td>133.027115</td>\n",
              "      <td>1576.589111</td>\n",
              "      <td>69.898277</td>\n",
              "      <td>0.0</td>\n",
              "      <td>3.454784</td>\n",
              "      <td>4.402648</td>\n",
              "      <td>2074.802246</td>\n",
              "      <td>55537.144531</td>\n",
              "      <td>0.0</td>\n",
              "    </tr>\n",
              "    <tr>\n",
              "      <th>4</th>\n",
              "      <td>-1.888601</td>\n",
              "      <td>-1.503151</td>\n",
              "      <td>0.000000</td>\n",
              "      <td>5.866666</td>\n",
              "      <td>533.671997</td>\n",
              "      <td>78316.554688</td>\n",
              "      <td>0.000000</td>\n",
              "      <td>77.091805</td>\n",
              "      <td>1219.218628</td>\n",
              "      <td>49.663952</td>\n",
              "      <td>0.0</td>\n",
              "      <td>2.018816</td>\n",
              "      <td>4.261858</td>\n",
              "      <td>200.188141</td>\n",
              "      <td>34613.937500</td>\n",
              "      <td>0.0</td>\n",
              "    </tr>\n",
              "    <tr>\n",
              "      <th>5</th>\n",
              "      <td>-1.124739</td>\n",
              "      <td>-1.384792</td>\n",
              "      <td>0.000000</td>\n",
              "      <td>6.233333</td>\n",
              "      <td>0.000000</td>\n",
              "      <td>75307.781250</td>\n",
              "      <td>0.000000</td>\n",
              "      <td>101.991638</td>\n",
              "      <td>1194.827026</td>\n",
              "      <td>53.243416</td>\n",
              "      <td>0.0</td>\n",
              "      <td>0.000000</td>\n",
              "      <td>4.179734</td>\n",
              "      <td>0.000000</td>\n",
              "      <td>38563.351562</td>\n",
              "      <td>0.0</td>\n",
              "    </tr>\n",
              "    <tr>\n",
              "      <th>6</th>\n",
              "      <td>-1.121778</td>\n",
              "      <td>-1.353720</td>\n",
              "      <td>0.000000</td>\n",
              "      <td>8.233334</td>\n",
              "      <td>6.629903</td>\n",
              "      <td>69013.164062</td>\n",
              "      <td>0.000000</td>\n",
              "      <td>134.174866</td>\n",
              "      <td>1309.328247</td>\n",
              "      <td>56.587051</td>\n",
              "      <td>0.0</td>\n",
              "      <td>0.000000</td>\n",
              "      <td>4.062629</td>\n",
              "      <td>0.000000</td>\n",
              "      <td>33456.878906</td>\n",
              "      <td>0.0</td>\n",
              "    </tr>\n",
              "    <tr>\n",
              "      <th>7</th>\n",
              "      <td>-1.351491</td>\n",
              "      <td>-1.344998</td>\n",
              "      <td>0.000000</td>\n",
              "      <td>0.733333</td>\n",
              "      <td>288.599487</td>\n",
              "      <td>14979.592773</td>\n",
              "      <td>0.000000</td>\n",
              "      <td>112.770493</td>\n",
              "      <td>1138.340210</td>\n",
              "      <td>49.937943</td>\n",
              "      <td>0.0</td>\n",
              "      <td>0.000000</td>\n",
              "      <td>4.173825</td>\n",
              "      <td>0.000000</td>\n",
              "      <td>32123.687500</td>\n",
              "      <td>0.0</td>\n",
              "    </tr>\n",
              "    <tr>\n",
              "      <th>8</th>\n",
              "      <td>-1.144062</td>\n",
              "      <td>-1.101569</td>\n",
              "      <td>1.023810</td>\n",
              "      <td>0.325581</td>\n",
              "      <td>12978.400391</td>\n",
              "      <td>17217.378906</td>\n",
              "      <td>11.975385</td>\n",
              "      <td>7.529749</td>\n",
              "      <td>7.529749</td>\n",
              "      <td>0.677013</td>\n",
              "      <td>0.0</td>\n",
              "      <td>3.180826</td>\n",
              "      <td>2.744522</td>\n",
              "      <td>3201.648926</td>\n",
              "      <td>2193.253174</td>\n",
              "      <td>0.0</td>\n",
              "    </tr>\n",
              "    <tr>\n",
              "      <th>9</th>\n",
              "      <td>-1.177468</td>\n",
              "      <td>-1.139751</td>\n",
              "      <td>0.880952</td>\n",
              "      <td>0.292683</td>\n",
              "      <td>13931.237305</td>\n",
              "      <td>19209.416016</td>\n",
              "      <td>10.371287</td>\n",
              "      <td>6.120760</td>\n",
              "      <td>6.120760</td>\n",
              "      <td>0.345818</td>\n",
              "      <td>0.0</td>\n",
              "      <td>2.709661</td>\n",
              "      <td>2.672005</td>\n",
              "      <td>4266.463867</td>\n",
              "      <td>2157.544434</td>\n",
              "      <td>0.0</td>\n",
              "    </tr>\n",
              "  </tbody>\n",
              "</table>\n",
              "</div>"
            ],
            "text/plain": [
              "   alpha_exp_fft_blos  alpha_exp_fft_br  ...       wlsg_br  y_GT_C1\n",
              "0           -2.158341         -1.656584  ...  56192.617188      1.0\n",
              "1           -1.522695         -1.589781  ...  55712.757812      0.0\n",
              "2           -2.679130         -1.598090  ...  53778.453125      0.0\n",
              "3           -2.014824         -1.484963  ...  55537.144531      0.0\n",
              "4           -1.888601         -1.503151  ...  34613.937500      0.0\n",
              "5           -1.124739         -1.384792  ...  38563.351562      0.0\n",
              "6           -1.121778         -1.353720  ...  33456.878906      0.0\n",
              "7           -1.351491         -1.344998  ...  32123.687500      0.0\n",
              "8           -1.144062         -1.101569  ...   2193.253174      0.0\n",
              "9           -1.177468         -1.139751  ...   2157.544434      0.0\n",
              "\n",
              "[10 rows x 16 columns]"
            ]
          },
          "metadata": {
            "tags": []
          },
          "execution_count": 3
        }
      ]
    },
    {
      "cell_type": "markdown",
      "metadata": {
        "id": "wLFVF0OUeQSE"
      },
      "source": [
        "# Preparación de datos\n",
        "Para nosotros, no hay mucho que hacer acá (porque los autores ya reducieron los datos), aunque si explican que antes de entrenar los algoritmos debemos de *estandarizar* cada una de las variables (realizar una escala que deje a cada variable con un promedio igual a 0 y una desviación estándar igual a 1). También creamos el set de entrenamiento y el set de evaluación."
      ]
    },
    {
      "cell_type": "code",
      "metadata": {
        "id": "ESBN7id8zu-X"
      },
      "source": [
        "# first we separate the entire data set into training and test, using stratified splitter\n",
        "from sklearn.model_selection import StratifiedShuffleSplit\n",
        "\n",
        "split = StratifiedShuffleSplit(n_splits=1, test_size=0.5, random_state=42)\n",
        "\n",
        "for train_index, test_index in split.split(Class_C_pd, Class_C_pd[\"y_GT_C1\"]):\n",
        "    strat_train_set = Class_C_pd.loc[train_index]\n",
        "    strat_test_set = Class_C_pd.loc[test_index]\n",
        "\n",
        "# now separate the training data set into feaures and labels\n",
        "X_train = strat_train_set[feature_names].values\n",
        "Y_train = strat_train_set['y_GT_C1'].values\n",
        "\n",
        "# now separate the training data set into feaures and labels\n",
        "X_test = strat_test_set[feature_names].values\n",
        "Y_test = strat_test_set['y_GT_C1'].values\n",
        "\n",
        "y_train = Y_train == 1.0 # 1 if its star, 0 if its galaxy\n",
        "y_test = Y_test == 1.0 # 1 if its star, 0 if its galaxy\n"
      ],
      "execution_count": null,
      "outputs": []
    },
    {
      "cell_type": "code",
      "metadata": {
        "id": "8YnPiK-t1mFF"
      },
      "source": [
        "# Use standard scaler for training set \n",
        "from sklearn.preprocessing import StandardScaler\n",
        "scaler = StandardScaler()\n",
        "\n",
        "X_train_scaled = scaler.fit_transform(X_train)\n",
        "X_test_scaled = scaler.fit_transform(X_test)\n"
      ],
      "execution_count": null,
      "outputs": []
    },
    {
      "cell_type": "markdown",
      "metadata": {
        "id": "Y6RBExsokfH9"
      },
      "source": [
        "# Entrenamiento de Algoritmo\n",
        "Aquí entreno solamente un algoritmo: Random Forest (bosque aleatorio), el cual fue el que obtuvo mejores resultados en el estudio."
      ]
    },
    {
      "cell_type": "code",
      "metadata": {
        "colab": {
          "base_uri": "https://localhost:8080/",
          "height": 481
        },
        "id": "fed_ol4BlX8W",
        "outputId": "560a633d-bf0a-4855-b2d4-ac5d5fddb53a"
      },
      "source": [
        "import matplotlib.pyplot as plt\n",
        "\n",
        "fig = plt.figure(figsize=(8,8))\n",
        "\n",
        "ax = fig.add_subplot(111)\n",
        "fig.subplots_adjust(top=0.85)\n",
        "ax.set_title('Árbol de Decisión')\n",
        "\n",
        "ax.text(-1.87, 0.5, '¿Campo magnético?', fontsize=15)\n",
        "ax.text(-4, -1.75, '¿Fuerte?', fontsize=15)\n",
        "\n",
        "ssss = 500\n",
        "\n",
        "plt.plot([-4,-2,0], [-4,-2,0], color=\"green\")\n",
        "plt.plot([0,2], [0,-2], color=\"red\")\n",
        "plt.plot([0,-2], [-4,-2], color=\"red\")\n",
        "plt.scatter([0,-2], [0, -2], s=ssss)#, s=75)\n",
        "plt.scatter([2,0],[-2,-4], marker='X', s=ssss, color='red')\n",
        "plt.scatter([-4],[-4], marker='D', s=ssss, color='green')\n",
        "\n",
        "ax.axis([-6, 6, -6, 2])\n",
        "\n",
        "plt.show()"
      ],
      "execution_count": null,
      "outputs": [
        {
          "output_type": "display_data",
          "data": {
            "image/png": "[encoded data removed]",
            "text/plain": [
              "<Figure size 576x576 with 1 Axes>"
            ]
          },
          "metadata": {
            "tags": [],
            "needs_background": "light"
          }
        }
      ]
    },
    {
      "cell_type": "code",
      "metadata": {
        "colab": {
          "base_uri": "https://localhost:8080/"
        },
        "id": "7WBpmR0L2QyR",
        "outputId": "79c6a7c1-3abd-4342-8d61-41e91fc57990"
      },
      "source": [
        "# now we can train a random forest classifier\n",
        "from sklearn.ensemble import RandomForestClassifier\n",
        "start_time = time.time()\n",
        "\n",
        "forest_clf = RandomForestClassifier(random_state=1000, max_features=\"sqrt\", n_estimators=500)\n",
        "forest_clf.fit(X_train_scaled, y_train)\n",
        "\n",
        "print(\"--- %s seconds ---\" % (time.time() - start_time))"
      ],
      "execution_count": null,
      "outputs": [
        {
          "output_type": "stream",
          "text": [
            "--- 15.955843210220337 seconds ---\n"
          ],
          "name": "stdout"
        }
      ]
    },
    {
      "cell_type": "markdown",
      "metadata": {
        "id": "gPwEF0f8tPgV"
      },
      "source": [
        "# Evaluación\n",
        "De nuevo, voy a utilizar el porcentaje de aciertos, pero tambien uso otros dos métodos de evaluación más especializados que los autores utilizan:\n",
        "\n",
        "- **True Skill Score (TSS)**: Puede variar de -1 a 1, -1 siendo terriblemente malo, 0 siendo igual que un clasificador aleatorio, 1 siendo un clasificador perfecto.\n",
        "\n",
        "- **Heidke Skill Score (HSS)**: Puede variar de menos infito a 1 y es similar a el TSS."
      ]
    },
    {
      "cell_type": "code",
      "metadata": {
        "colab": {
          "base_uri": "https://localhost:8080/"
        },
        "id": "5GGxB1TauaJf",
        "outputId": "3bdc1bad-104c-4cf2-ac68-e41d8f40ab4e"
      },
      "source": [
        "from sklearn.metrics import confusion_matrix, make_scorer, accuracy_score\n",
        "\n",
        "y_test_predicted = forest_clf.predict(X_test_scaled)\n",
        "\n",
        "def tss_scorer_function(y_true, y_pred):\n",
        "    # make confusion matrix\n",
        "    cm = confusion_matrix(y_true, y_pred)\n",
        "\n",
        "    # get individual values\n",
        "    tp = cm[1, 1] # true positive\n",
        "    tn = cm[0, 0] # true negative\n",
        "    fp = cm[0, 1] # false positive\n",
        "    fn = cm[1, 0] # false negative    \n",
        "\n",
        "    # get true skill score\n",
        "    tss = (tp/(tp+fn)) - (fp/(fp+tn))\n",
        "\n",
        "    return tss\n",
        "\n",
        "def hss_scorer_function(y_true, y_pred):\n",
        "    # make confusion matrix\n",
        "    cm = confusion_matrix(y_true, y_pred)\n",
        "\n",
        "    # get individual values\n",
        "    tp = cm[1, 1] # true positive\n",
        "    tn = cm[0, 0] # true negative\n",
        "    fp = cm[0, 1] # false positive\n",
        "    fn = cm[1, 0] # false negative    \n",
        "\n",
        "    # get Heidke skill score\n",
        "    numerator = 2*((tp*tn) - (fp*fn))\n",
        "    denominator = ((tp+fn)*(fn+tn)) + ((tp+fp)*(fp+tn))\n",
        "    hss = numerator/denominator\n",
        "\n",
        "    return hss\n",
        "\n",
        "print(f'El porcentaje de aciertos es de: {accuracy_score(y_test, y_test_predicted)}')\n",
        "print(f'El TSS es de: {tss_scorer_function(y_test, y_test_predicted)}')\n",
        "print(f'El HSS es de: {hss_scorer_function(y_test, y_test_predicted)}')\n"
      ],
      "execution_count": null,
      "outputs": [
        {
          "output_type": "stream",
          "text": [
            "El porcentaje de aciertos es de: 0.8308982450073485\n",
            "El TSS es de: 0.57491990881479\n",
            "El HSS es de: 0.5671211504674621\n"
          ],
          "name": "stdout"
        }
      ]
    },
    {
      "cell_type": "markdown",
      "metadata": {
        "id": "3-Qc4oGpyFlb"
      },
      "source": [
        "# Mejorar y Repetir\n",
        "El bosque aleatorio usa una probabilidad mínima del 50% para hacer una predicción afirmativa. Cambiar este límite puede mejorar aún más los resultados. Los autores deciden cambiar este límite desde 0% hasta 100% usando incrementos del 5%. Acá tuve que modificar un poco la implementación del RF para manipular este límite, y prové exactamente lo mismo."
      ]
    },
    {
      "cell_type": "code",
      "metadata": {
        "id": "PJJCWnvTV2bj"
      },
      "source": [
        "# make a child of RandomForestClassifier overriding the predict method to use a threshold\n",
        "class RandomForestClassifierWithThreshold(RandomForestClassifier):\n",
        "\n",
        "    # change __init__ to include new attribute called threshold\n",
        "    def __init__(self, random_state=42, max_features='sqrt', n_estimators=100, threshold=.5):\n",
        "        RandomForestClassifier.__init__(self,random_state=random_state, \n",
        "                                        max_features=max_features, \n",
        "                                        n_estimators=n_estimators)\n",
        "        self.threshold = threshold\n",
        "\n",
        "    # override the parent predict method\n",
        "    def predict(self, X):\n",
        "        return self.predict_proba(X)[:,1] >= self.threshold\n"
      ],
      "execution_count": null,
      "outputs": []
    },
    {
      "cell_type": "code",
      "metadata": {
        "colab": {
          "base_uri": "https://localhost:8080/"
        },
        "id": "5S3bE1Ql17x1",
        "outputId": "50d7f6ba-158e-4be5-de62-7eff464e00f8"
      },
      "source": [
        "# create RF with custom threshold\n",
        "forest_tr_clf_grid = RandomForestClassifierWithThreshold()\n",
        "\n",
        "# grid of parameters for the random forest\n",
        "param_grid_forest_tr = [{'threshold': np.linspace(0.0,1, 21),\n",
        "                         'n_estimators': [100],}]\n",
        "\n",
        "# create dictionary of scorers\n",
        "scoring = {'ACC': 'accuracy', \n",
        "           'TSS': make_scorer(tss_scorer_function), \n",
        "           'HSS': make_scorer(hss_scorer_function)}\n",
        "\n",
        "# grid search cv with the accuracy scorer \n",
        "grid_search_rf_tr_complete = GridSearchCV(forest_tr_clf_grid, param_grid_forest_tr, \n",
        "                                          cv=3, verbose=1, scoring=scoring, refit=False)\n",
        "grid_search_rf_tr_complete.fit(X_train_scaled, y_train)"
      ],
      "execution_count": null,
      "outputs": [
        {
          "output_type": "stream",
          "text": [
            "Fitting 3 folds for each of 21 candidates, totalling 63 fits\n"
          ],
          "name": "stdout"
        },
        {
          "output_type": "stream",
          "text": [
            "[Parallel(n_jobs=1)]: Using backend SequentialBackend with 1 concurrent workers.\n",
            "[Parallel(n_jobs=1)]: Done  63 out of  63 | elapsed:  2.2min finished\n"
          ],
          "name": "stderr"
        },
        {
          "output_type": "execute_result",
          "data": {
            "text/plain": [
              "GridSearchCV(cv=3, error_score=nan,\n",
              "             estimator=RandomForestClassifierWithThreshold(max_features='sqrt',\n",
              "                                                           n_estimators=100,\n",
              "                                                           random_state=42,\n",
              "                                                           threshold=0.5),\n",
              "             iid='deprecated', n_jobs=None,\n",
              "             param_grid=[{'n_estimators': [100],\n",
              "                          'threshold': array([0.  , 0.05, 0.1 , 0.15, 0.2 , 0.25, 0.3 , 0.35, 0.4 , 0.45, 0.5 ,\n",
              "       0.55, 0.6 , 0.65, 0.7 , 0.75, 0.8 , 0.85, 0.9 , 0.95, 1.  ])}],\n",
              "             pre_dispatch='2*n_jobs', refit=False, return_train_score=False,\n",
              "             scoring={'ACC': 'accuracy',\n",
              "                      'HSS': make_scorer(hss_scorer_function),\n",
              "                      'TSS': make_scorer(tss_scorer_function)},\n",
              "             verbose=1)"
            ]
          },
          "metadata": {
            "tags": []
          },
          "execution_count": 10
        }
      ]
    },
    {
      "cell_type": "code",
      "metadata": {
        "colab": {
          "base_uri": "https://localhost:8080/",
          "height": 700
        },
        "id": "IZ-ghHxn4gwx",
        "outputId": "8d2b4a9f-18ca-4c93-d259-097c30222667"
      },
      "source": [
        "thresholds_used = np.linspace(0.0,1, 21)\n",
        "acc_results = grid_search_rf_tr_complete.cv_results_['mean_test_ACC']\n",
        "tss_results = grid_search_rf_tr_complete.cv_results_['mean_test_TSS']\n",
        "hss_results = grid_search_rf_tr_complete.cv_results_['mean_test_HSS']\n",
        "\n",
        "Results_C_pd = pd.DataFrame(np.vstack((thresholds_used, acc_results, tss_results, hss_results)).T, \n",
        "                            columns=['Threshold', 'ACC', 'TSS', 'HSS'])\n",
        "#Results_C_pd.to_excel('my_results_2.xlsx')\n",
        "Results_C_pd.head(21)"
      ],
      "execution_count": null,
      "outputs": [
        {
          "output_type": "execute_result",
          "data": {
            "text/html": [
              "<div>\n",
              "<style scoped>\n",
              "    .dataframe tbody tr th:only-of-type {\n",
              "        vertical-align: middle;\n",
              "    }\n",
              "\n",
              "    .dataframe tbody tr th {\n",
              "        vertical-align: top;\n",
              "    }\n",
              "\n",
              "    .dataframe thead th {\n",
              "        text-align: right;\n",
              "    }\n",
              "</style>\n",
              "<table border=\"1\" class=\"dataframe\">\n",
              "  <thead>\n",
              "    <tr style=\"text-align: right;\">\n",
              "      <th></th>\n",
              "      <th>Threshold</th>\n",
              "      <th>ACC</th>\n",
              "      <th>TSS</th>\n",
              "      <th>HSS</th>\n",
              "    </tr>\n",
              "  </thead>\n",
              "  <tbody>\n",
              "    <tr>\n",
              "      <th>0</th>\n",
              "      <td>0.00</td>\n",
              "      <td>0.260655</td>\n",
              "      <td>0.000000</td>\n",
              "      <td>0.000000</td>\n",
              "    </tr>\n",
              "    <tr>\n",
              "      <th>1</th>\n",
              "      <td>0.05</td>\n",
              "      <td>0.500564</td>\n",
              "      <td>0.312248</td>\n",
              "      <td>0.194335</td>\n",
              "    </tr>\n",
              "    <tr>\n",
              "      <th>2</th>\n",
              "      <td>0.10</td>\n",
              "      <td>0.631193</td>\n",
              "      <td>0.471751</td>\n",
              "      <td>0.330274</td>\n",
              "    </tr>\n",
              "    <tr>\n",
              "      <th>3</th>\n",
              "      <td>0.15</td>\n",
              "      <td>0.712459</td>\n",
              "      <td>0.551817</td>\n",
              "      <td>0.425233</td>\n",
              "    </tr>\n",
              "    <tr>\n",
              "      <th>4</th>\n",
              "      <td>0.20</td>\n",
              "      <td>0.749201</td>\n",
              "      <td>0.580469</td>\n",
              "      <td>0.471529</td>\n",
              "    </tr>\n",
              "    <tr>\n",
              "      <th>5</th>\n",
              "      <td>0.25</td>\n",
              "      <td>0.783695</td>\n",
              "      <td>0.596201</td>\n",
              "      <td>0.515127</td>\n",
              "    </tr>\n",
              "    <tr>\n",
              "      <th>6</th>\n",
              "      <td>0.30</td>\n",
              "      <td>0.815164</td>\n",
              "      <td>0.600969</td>\n",
              "      <td>0.556172</td>\n",
              "    </tr>\n",
              "    <tr>\n",
              "      <th>7</th>\n",
              "      <td>0.35</td>\n",
              "      <td>0.836345</td>\n",
              "      <td>0.601271</td>\n",
              "      <td>0.586134</td>\n",
              "    </tr>\n",
              "    <tr>\n",
              "      <th>8</th>\n",
              "      <td>0.40</td>\n",
              "      <td>0.845682</td>\n",
              "      <td>0.592211</td>\n",
              "      <td>0.596646</td>\n",
              "    </tr>\n",
              "    <tr>\n",
              "      <th>9</th>\n",
              "      <td>0.45</td>\n",
              "      <td>0.850178</td>\n",
              "      <td>0.564362</td>\n",
              "      <td>0.592171</td>\n",
              "    </tr>\n",
              "    <tr>\n",
              "      <th>10</th>\n",
              "      <td>0.50</td>\n",
              "      <td>0.851215</td>\n",
              "      <td>0.537204</td>\n",
              "      <td>0.581835</td>\n",
              "    </tr>\n",
              "    <tr>\n",
              "      <th>11</th>\n",
              "      <td>0.55</td>\n",
              "      <td>0.848102</td>\n",
              "      <td>0.503360</td>\n",
              "      <td>0.560858</td>\n",
              "    </tr>\n",
              "    <tr>\n",
              "      <th>12</th>\n",
              "      <td>0.60</td>\n",
              "      <td>0.843002</td>\n",
              "      <td>0.462102</td>\n",
              "      <td>0.531414</td>\n",
              "    </tr>\n",
              "    <tr>\n",
              "      <th>13</th>\n",
              "      <td>0.65</td>\n",
              "      <td>0.838506</td>\n",
              "      <td>0.431755</td>\n",
              "      <td>0.507429</td>\n",
              "    </tr>\n",
              "    <tr>\n",
              "      <th>14</th>\n",
              "      <td>0.70</td>\n",
              "      <td>0.832022</td>\n",
              "      <td>0.387982</td>\n",
              "      <td>0.470792</td>\n",
              "    </tr>\n",
              "    <tr>\n",
              "      <th>15</th>\n",
              "      <td>0.75</td>\n",
              "      <td>0.822512</td>\n",
              "      <td>0.344841</td>\n",
              "      <td>0.427862</td>\n",
              "    </tr>\n",
              "    <tr>\n",
              "      <th>16</th>\n",
              "      <td>0.80</td>\n",
              "      <td>0.807815</td>\n",
              "      <td>0.278363</td>\n",
              "      <td>0.357707</td>\n",
              "    </tr>\n",
              "    <tr>\n",
              "      <th>17</th>\n",
              "      <td>0.85</td>\n",
              "      <td>0.790784</td>\n",
              "      <td>0.204004</td>\n",
              "      <td>0.272827</td>\n",
              "    </tr>\n",
              "    <tr>\n",
              "      <th>18</th>\n",
              "      <td>0.90</td>\n",
              "      <td>0.778507</td>\n",
              "      <td>0.153470</td>\n",
              "      <td>0.210596</td>\n",
              "    </tr>\n",
              "    <tr>\n",
              "      <th>19</th>\n",
              "      <td>0.95</td>\n",
              "      <td>0.760007</td>\n",
              "      <td>0.079700</td>\n",
              "      <td>0.113444</td>\n",
              "    </tr>\n",
              "    <tr>\n",
              "      <th>20</th>\n",
              "      <td>1.00</td>\n",
              "      <td>0.742198</td>\n",
              "      <td>0.010945</td>\n",
              "      <td>0.016097</td>\n",
              "    </tr>\n",
              "  </tbody>\n",
              "</table>\n",
              "</div>"
            ],
            "text/plain": [
              "    Threshold       ACC       TSS       HSS\n",
              "0        0.00  0.260655  0.000000  0.000000\n",
              "1        0.05  0.500564  0.312248  0.194335\n",
              "2        0.10  0.631193  0.471751  0.330274\n",
              "3        0.15  0.712459  0.551817  0.425233\n",
              "4        0.20  0.749201  0.580469  0.471529\n",
              "5        0.25  0.783695  0.596201  0.515127\n",
              "6        0.30  0.815164  0.600969  0.556172\n",
              "7        0.35  0.836345  0.601271  0.586134\n",
              "8        0.40  0.845682  0.592211  0.596646\n",
              "9        0.45  0.850178  0.564362  0.592171\n",
              "10       0.50  0.851215  0.537204  0.581835\n",
              "11       0.55  0.848102  0.503360  0.560858\n",
              "12       0.60  0.843002  0.462102  0.531414\n",
              "13       0.65  0.838506  0.431755  0.507429\n",
              "14       0.70  0.832022  0.387982  0.470792\n",
              "15       0.75  0.822512  0.344841  0.427862\n",
              "16       0.80  0.807815  0.278363  0.357707\n",
              "17       0.85  0.790784  0.204004  0.272827\n",
              "18       0.90  0.778507  0.153470  0.210596\n",
              "19       0.95  0.760007  0.079700  0.113444\n",
              "20       1.00  0.742198  0.010945  0.016097"
            ]
          },
          "metadata": {
            "tags": []
          },
          "execution_count": 11
        }
      ]
    },
    {
      "cell_type": "markdown",
      "metadata": {
        "id": "q7e4TTYd0BAB"
      },
      "source": [
        "# Conclusiones\n",
        "Logramos crear un predictor de fulguraciones solares de tipo C siguiendo la metodología descrita en un artículo científico. Exploramos nuevas métricas de evaluación e incluso modificamos el algoritmo de Bosques Aleatorios para obtener mejores resultados."
      ]
    },
    {
      "cell_type": "code",
      "metadata": {
        "id": "psyPU6kG0-W-"
      },
      "source": [
        ""
      ],
      "execution_count": null,
      "outputs": []
    }
  ]
}